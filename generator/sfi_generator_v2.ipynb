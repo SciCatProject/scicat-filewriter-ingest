{
 "cells": [
  {
   "cell_type": "code",
   "execution_count": 1,
   "id": "4fdc7c25-37c2-4bd2-897d-c17a5d5e5c15",
   "metadata": {
    "tags": [
     "remove-cell"
    ]
   },
   "outputs": [
    {
     "name": "stdout",
     "output_type": "stream",
     "text": [
      "Requirement already satisfied: confluent_kafka in /home/nitrosx71/micromamba/envs/sfi-gen/lib/python3.10/site-packages (2.1.1)\n",
      "Note: you may need to restart the kernel to use updated packages.\n"
     ]
    }
   ],
   "source": [
    "pip install confluent_kafka"
   ]
  },
  {
   "cell_type": "code",
   "execution_count": 2,
   "id": "b4929e40-ae68-454d-acfd-cf97239da05a",
   "metadata": {
    "tags": [
     "remove-cell"
    ]
   },
   "outputs": [
    {
     "name": "stdout",
     "output_type": "stream",
     "text": [
      "Requirement already satisfied: ess_streaming_data_types in /home/nitrosx71/micromamba/envs/sfi-gen/lib/python3.10/site-packages (0.22.1)\n",
      "Requirement already satisfied: flatbuffers>=22.11.23 in /home/nitrosx71/micromamba/envs/sfi-gen/lib/python3.10/site-packages (from ess_streaming_data_types) (23.5.8)\n",
      "Requirement already satisfied: numpy in /home/nitrosx71/micromamba/envs/sfi-gen/lib/python3.10/site-packages (from ess_streaming_data_types) (1.24.3)\n",
      "Note: you may need to restart the kernel to use updated packages.\n"
     ]
    }
   ],
   "source": [
    "pip install ess_streaming_data_types"
   ]
  },
  {
   "cell_type": "code",
   "execution_count": 3,
   "id": "052d85b7-9e6d-45c1-ac4f-4580b946ab6a",
   "metadata": {
    "tags": [
     "remove-cell"
    ]
   },
   "outputs": [],
   "source": [
    "import datetime\n",
    "import logging\n",
    "from streaming_data_types import serialise_wrdn\n",
    "import ipywidgets as widgets\n",
    "from IPython.display import display\n",
    "import pprint\n",
    "import json\n",
    "import functools\n",
    "from uuid import uuid4\n",
    "\n",
    "import sfi_generator_v2 as sfig2"
   ]
  },
  {
   "cell_type": "code",
   "execution_count": 4,
   "id": "0b3ebf82-4d23-41fa-bbf5-b567a412877b",
   "metadata": {
    "tags": [
     "remove-cell"
    ]
   },
   "outputs": [],
   "source": [
    "config = sfig2.load_config('sfi_generator_config_v2.json')"
   ]
  },
  {
   "cell_type": "code",
   "execution_count": 5,
   "id": "76906627-2163-4549-a564-8516ebbbddd0",
   "metadata": {
    "tags": [
     "remove-cell"
    ]
   },
   "outputs": [],
   "source": [
    "output_results = widgets.Output(\n",
    "    layout={\"border\":\"1px solid gray\",\"width\":\"auto\"}\n",
    ")"
   ]
  },
  {
   "cell_type": "code",
   "execution_count": 6,
   "id": "9db43992-c0f1-4137-8160-d91334ceabb7",
   "metadata": {
    "tags": []
   },
   "outputs": [],
   "source": [
    "t_proposal_id = widgets.Text(\n",
    "    value=config['defaults']['proposal_id'],\n",
    "    placeholder='Proposal id',\n",
    "    description='Proposal Id:',\n",
    "    disabled=False\n",
    ")"
   ]
  },
  {
   "cell_type": "code",
   "execution_count": 7,
   "id": "1eda2fa9-ed8b-4983-a674-c2b958f954a5",
   "metadata": {
    "tags": []
   },
   "outputs": [],
   "source": [
    "t_job_id = widgets.Text(\n",
    "    value=\"\",\n",
    "    placeholder='Job id',\n",
    "    description='Job Id:',\n",
    "    disabled=False\n",
    ")"
   ]
  },
  {
   "cell_type": "code",
   "execution_count": 8,
   "id": "dcd05779-901d-4f46-84c7-9fa9dbccc11d",
   "metadata": {
    "tags": []
   },
   "outputs": [],
   "source": [
    "b_generate_job_id = widgets.Button(\n",
    "    description='Generate',\n",
    "    disabled=False,\n",
    "    button_style='',\n",
    "    tooltip='Generate new job id',\n",
    ")"
   ]
  },
  {
   "cell_type": "code",
   "execution_count": 9,
   "id": "4d09e4a5-4143-4984-be79-58113a4d172b",
   "metadata": {
    "tags": []
   },
   "outputs": [],
   "source": [
    "def generate_job_id(b):\n",
    "    t_job_id.value = str(uuid4())"
   ]
  },
  {
   "cell_type": "code",
   "execution_count": 10,
   "id": "0354faa8-4e41-444e-b280-7c5b15f1ccf2",
   "metadata": {
    "tags": []
   },
   "outputs": [],
   "source": [
    "b_generate_job_id.on_click(generate_job_id)"
   ]
  },
  {
   "cell_type": "code",
   "execution_count": 11,
   "id": "d8c180e0-0743-462b-967f-bdee244f10eb",
   "metadata": {
    "tags": []
   },
   "outputs": [],
   "source": [
    "t_file_name = widgets.Text(\n",
    "    value=config['defaults']['file_name'],\n",
    "    placeholder='File Name',\n",
    "    description='File Name:',\n",
    "    disabled=False\n",
    ")"
   ]
  },
  {
   "cell_type": "code",
   "execution_count": 12,
   "id": "85c3c9b4-53c8-429e-9242-9bc6b4204901",
   "metadata": {
    "tags": [
     "remove-cell"
    ]
   },
   "outputs": [],
   "source": [
    "ta_message_preview = widgets.Textarea(\n",
    "    value='',\n",
    "    placeholder='Done Writing message in json format',\n",
    "    description='',\n",
    "    disabled=False,\n",
    "    layout={\n",
    "        'width': 'auto',\n",
    "        'height': '500px'\n",
    "    }\n",
    ")"
   ]
  },
  {
   "cell_type": "code",
   "execution_count": 13,
   "id": "0122f667-aca8-41e1-a505-59ab636d0d5a",
   "metadata": {
    "tags": [
     "remove-cell"
    ]
   },
   "outputs": [],
   "source": [
    "l_message_preview = widgets.Label(\n",
    "    value=\"Message Preview\"\n",
    ")"
   ]
  },
  {
   "cell_type": "code",
   "execution_count": 14,
   "id": "cda0e895-5e13-4a21-ba12-a9f5ce2863d0",
   "metadata": {
    "tags": [
     "remove-cell"
    ]
   },
   "outputs": [],
   "source": [
    "b_prep_message = widgets.Button(\n",
    "    description='Prepare message',\n",
    "    disabled=False,\n",
    "    button_style='',\n",
    "    tooltip='Create next message to send and preview it',\n",
    "    icon='eye'\n",
    ")"
   ]
  },
  {
   "cell_type": "code",
   "execution_count": 15,
   "id": "f7e81db5-8b51-40e6-a67e-42afa955de72",
   "metadata": {
    "tags": [
     "remove-cell"
    ]
   },
   "outputs": [],
   "source": [
    "def prep_message_click(\n",
    "    b,\n",
    "    w_output=None,\n",
    "    w_proposal_id=None,\n",
    "    w_job_id=None,\n",
    "    w_file_name=None,\n",
    "    config=None\n",
    "):\n",
    "    config['values'] = {\n",
    "        'proposal_id': w_proposal_id.value,\n",
    "        'job_id': w_job_id.value,\n",
    "        'file_name' : w_file_name.value\n",
    "    }\n",
    "    dict_message = sfig2.prep_message(config)\n",
    "    formatted_message = json.dumps(dict_message, indent=4)\n",
    "    w_output.value = formatted_message\n",
    "    output_results.clear_output()"
   ]
  },
  {
   "cell_type": "code",
   "execution_count": 16,
   "id": "5d39bfa6-d8fc-4b7f-b141-500b07cc777a",
   "metadata": {
    "tags": [
     "remove-cell"
    ]
   },
   "outputs": [],
   "source": [
    "b_prep_message.on_click(\n",
    "    functools.partial(\n",
    "        prep_message_click,\n",
    "        w_output=ta_message_preview,\n",
    "        w_proposal_id=t_proposal_id,\n",
    "        w_job_id=t_job_id,\n",
    "        w_file_name=t_file_name,\n",
    "        config=config\n",
    "    )\n",
    ")"
   ]
  },
  {
   "cell_type": "code",
   "execution_count": 17,
   "id": "b8464e7c-6d22-4a6a-b481-2752af498a35",
   "metadata": {
    "tags": [
     "remove-cell"
    ]
   },
   "outputs": [],
   "source": [
    "b_send_message = widgets.Button(\n",
    "    description='Send message',\n",
    "    disabled=False,\n",
    "    button_style='',\n",
    "    tooltip='Send message in preview',\n",
    "    icon='paper-plane'\n",
    ")"
   ]
  },
  {
   "cell_type": "code",
   "execution_count": 18,
   "id": "22329278-ccbd-45a2-82fd-aaeb63834c1a",
   "metadata": {
    "tags": [
     "remove-cell"
    ]
   },
   "outputs": [],
   "source": [
    "def collect_output(message):\n",
    "    output_results.append_stdout(message)"
   ]
  },
  {
   "cell_type": "code",
   "execution_count": 19,
   "id": "47f84389-44d3-4e0f-8f88-1c0f04437a8e",
   "metadata": {
    "tags": [
     "remove-cell"
    ]
   },
   "outputs": [],
   "source": [
    "def send_message_click(b,text_area=None,config=None):\n",
    "    dict_message = json.loads(text_area.value)\n",
    "    serialized_message = sfig2.serialize_message(dict_message)\n",
    "    sfig2.post_message(config,serialized_message,log_message=collect_output)"
   ]
  },
  {
   "cell_type": "code",
   "execution_count": 20,
   "id": "67be79ad-1867-4f31-bc9b-750c765be5d2",
   "metadata": {
    "tags": [
     "remove-cell"
    ]
   },
   "outputs": [],
   "source": [
    "b_send_message.on_click(\n",
    "    functools.partial(\n",
    "        send_message_click,\n",
    "        text_area=ta_message_preview,\n",
    "        config=config\n",
    "    )\n",
    ")"
   ]
  },
  {
   "cell_type": "code",
   "execution_count": 21,
   "id": "9c189c40-8a56-48e8-87b5-5466d7c6c4a2",
   "metadata": {
    "tags": [
     "remove-cell"
    ]
   },
   "outputs": [],
   "source": [
    "layout = widgets.VBox(\n",
    "    [\n",
    "        t_proposal_id,\n",
    "        widgets.HBox([\n",
    "            t_job_id,\n",
    "            b_generate_job_id\n",
    "        ]),\n",
    "        t_file_name,\n",
    "        b_prep_message,\n",
    "        l_message_preview,\n",
    "        ta_message_preview,\n",
    "        b_send_message,\n",
    "        output_results\n",
    "    ],\n",
    "    layout={\n",
    "        'weight': 'auto',\n",
    "        'height': 'auto'\n",
    "    }\n",
    ")"
   ]
  },
  {
   "cell_type": "code",
   "execution_count": 22,
   "id": "257b1b46-9f36-4b71-b919-78643d9b0e9d",
   "metadata": {
    "tags": []
   },
   "outputs": [
    {
     "data": {
      "application/vnd.jupyter.widget-view+json": {
       "model_id": "4c9fd2d8238646ae916b22d54352d9cc",
       "version_major": 2,
       "version_minor": 0
      },
      "text/plain": [
       "VBox(children=(Text(value='665386', description='Proposal Id:', placeholder='Proposal id'), HBox(children=(Tex…"
      ]
     },
     "metadata": {},
     "output_type": "display_data"
    }
   ],
   "source": [
    "display(layout)"
   ]
  },
  {
   "cell_type": "code",
   "execution_count": null,
   "id": "10c1e60c-1e58-4462-a5c6-89f0c686f664",
   "metadata": {},
   "outputs": [],
   "source": []
  }
 ],
 "metadata": {
  "kernelspec": {
   "display_name": "Python 3 (ipykernel)",
   "language": "python",
   "name": "python3"
  },
  "language_info": {
   "codemirror_mode": {
    "name": "ipython",
    "version": 3
   },
   "file_extension": ".py",
   "mimetype": "text/x-python",
   "name": "python",
   "nbconvert_exporter": "python",
   "pygments_lexer": "ipython3",
   "version": "3.10.10"
  }
 },
 "nbformat": 4,
 "nbformat_minor": 5
}
