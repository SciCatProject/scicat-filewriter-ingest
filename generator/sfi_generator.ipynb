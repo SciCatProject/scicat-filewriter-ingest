{
 "cells": [
  {
   "cell_type": "code",
   "execution_count": 17,
   "id": "4fdc7c25-37c2-4bd2-897d-c17a5d5e5c15",
   "metadata": {
    "collapsed": true,
    "jupyter": {
     "outputs_hidden": true,
     "source_hidden": true
    },
    "tags": [
     "remove-cell"
    ]
   },
   "outputs": [
    {
     "ename": "SyntaxError",
     "evalue": "invalid syntax (900263671.py, line 2)",
     "output_type": "error",
     "traceback": [
      "\u001b[0;36m  Cell \u001b[0;32mIn[17], line 2\u001b[0;36m\u001b[0m\n\u001b[0;31m    pip install confluent_kafka\u001b[0m\n\u001b[0m        ^\u001b[0m\n\u001b[0;31mSyntaxError\u001b[0m\u001b[0;31m:\u001b[0m invalid syntax\n"
     ]
    }
   ],
   "source": [
    "pip install confluent_kafka"
   ]
  },
  {
   "cell_type": "code",
   "execution_count": 2,
   "id": "b4929e40-ae68-454d-acfd-cf97239da05a",
   "metadata": {
    "collapsed": true,
    "jupyter": {
     "outputs_hidden": true,
     "source_hidden": true
    },
    "tags": [
     "remove-cell"
    ]
   },
   "outputs": [
    {
     "name": "stdout",
     "output_type": "stream",
     "text": [
      "Collecting ess_streaming_data_types\n",
      "  Downloading ess_streaming_data_types-0.21.0-py3-none-any.whl (131 kB)\n",
      "\u001b[2K     \u001b[90m━━━━━━━━━━━━━━━━━━━━━━━━━━━━━━━━━━━━━━━\u001b[0m \u001b[32m131.6/131.6 kB\u001b[0m \u001b[31m4.6 MB/s\u001b[0m eta \u001b[36m0:00:00\u001b[0m\n",
      "\u001b[?25hCollecting flatbuffers>=22.11.23\n",
      "  Downloading flatbuffers-23.3.3-py2.py3-none-any.whl (26 kB)\n",
      "Requirement already satisfied: numpy in /opt/conda/lib/python3.10/site-packages (from ess_streaming_data_types) (1.23.5)\n",
      "Installing collected packages: flatbuffers, ess_streaming_data_types\n",
      "Successfully installed ess_streaming_data_types-0.21.0 flatbuffers-23.3.3\n",
      "Note: you may need to restart the kernel to use updated packages.\n"
     ]
    }
   ],
   "source": [
    "pip install ess_streaming_data_types"
   ]
  },
  {
   "cell_type": "code",
   "execution_count": 3,
   "id": "052d85b7-9e6d-45c1-ac4f-4580b946ab6a",
   "metadata": {
    "jupyter": {
     "source_hidden": true
    },
    "tags": [
     "remove-cell"
    ]
   },
   "outputs": [],
   "source": [
    "import datetime\n",
    "import logging\n",
    "from streaming_data_types import serialise_wrdn\n",
    "import ipywidgets as widgets\n",
    "from IPython.display import display\n",
    "import pprint\n",
    "import json\n",
    "import functools\n",
    "\n",
    "import sfi_generator as sfig"
   ]
  },
  {
   "cell_type": "code",
   "execution_count": 4,
   "id": "0b3ebf82-4d23-41fa-bbf5-b567a412877b",
   "metadata": {
    "jupyter": {
     "source_hidden": true
    },
    "tags": [
     "remove-cell"
    ]
   },
   "outputs": [],
   "source": [
    "config = sfig.load_config('sfi_generator_config_docker_local.json')"
   ]
  },
  {
   "cell_type": "code",
   "execution_count": 5,
   "id": "76906627-2163-4549-a564-8516ebbbddd0",
   "metadata": {
    "jupyter": {
     "source_hidden": true
    },
    "tags": [
     "remove-cell"
    ]
   },
   "outputs": [],
   "source": [
    "output_results = widgets.Output(\n",
    "    layout={\"border\":\"1px solid gray\",\"width\":\"auto\"}\n",
    ")"
   ]
  },
  {
   "cell_type": "code",
   "execution_count": 6,
   "id": "85c3c9b4-53c8-429e-9242-9bc6b4204901",
   "metadata": {
    "jupyter": {
     "source_hidden": true
    },
    "tags": [
     "remove-cell"
    ]
   },
   "outputs": [],
   "source": [
    "ta_message_preview = widgets.Textarea(\n",
    "    value='',\n",
    "    placeholder='Done Writing message in json format',\n",
    "    description='',\n",
    "    disabled=False,\n",
    "    layout={\n",
    "        'width': 'auto',\n",
    "        'height': '400px'\n",
    "    }\n",
    ")"
   ]
  },
  {
   "cell_type": "code",
   "execution_count": 7,
   "id": "0122f667-aca8-41e1-a505-59ab636d0d5a",
   "metadata": {
    "jupyter": {
     "source_hidden": true
    },
    "tags": [
     "remove-cell"
    ]
   },
   "outputs": [],
   "source": [
    "l_message_preview = widgets.Label(\n",
    "    value=\"Message Preview\"\n",
    ")"
   ]
  },
  {
   "cell_type": "code",
   "execution_count": 8,
   "id": "cda0e895-5e13-4a21-ba12-a9f5ce2863d0",
   "metadata": {
    "jupyter": {
     "source_hidden": true
    },
    "tags": [
     "remove-cell"
    ]
   },
   "outputs": [],
   "source": [
    "b_prep_message = widgets.Button(\n",
    "    description='Prepare message',\n",
    "    disabled=False,\n",
    "    button_style='',\n",
    "    tooltip='Create next message to send and preview it',\n",
    "    icon='eye'\n",
    ")"
   ]
  },
  {
   "cell_type": "code",
   "execution_count": 9,
   "id": "f7e81db5-8b51-40e6-a67e-42afa955de72",
   "metadata": {
    "jupyter": {
     "source_hidden": true
    },
    "tags": [
     "remove-cell"
    ]
   },
   "outputs": [],
   "source": [
    "def prep_message_click(b,text_area=None,config=None):\n",
    "    dict_message = sfig.prep_message(config)\n",
    "    formatted_message = json.dumps(dict_message, indent=4)\n",
    "    text_area.value = formatted_message\n",
    "    output_results.clear_output()"
   ]
  },
  {
   "cell_type": "code",
   "execution_count": 10,
   "id": "5d39bfa6-d8fc-4b7f-b141-500b07cc777a",
   "metadata": {
    "jupyter": {
     "source_hidden": true
    },
    "tags": [
     "remove-cell"
    ]
   },
   "outputs": [],
   "source": [
    "b_prep_message.on_click(\n",
    "    functools.partial(\n",
    "        prep_message_click,\n",
    "        text_area=ta_message_preview,\n",
    "        config=config\n",
    "    )\n",
    ")"
   ]
  },
  {
   "cell_type": "code",
   "execution_count": 11,
   "id": "b8464e7c-6d22-4a6a-b481-2752af498a35",
   "metadata": {
    "jupyter": {
     "source_hidden": true
    },
    "tags": [
     "remove-cell"
    ]
   },
   "outputs": [],
   "source": [
    "b_send_message = widgets.Button(\n",
    "    description='Send message',\n",
    "    disabled=False,\n",
    "    button_style='',\n",
    "    tooltip='Send message in preview',\n",
    "    icon='paper-plane'\n",
    ")"
   ]
  },
  {
   "cell_type": "code",
   "execution_count": 12,
   "id": "22329278-ccbd-45a2-82fd-aaeb63834c1a",
   "metadata": {
    "jupyter": {
     "source_hidden": true
    },
    "tags": [
     "remove-cell"
    ]
   },
   "outputs": [],
   "source": [
    "def collect_output(message):\n",
    "    output_results.append_stdout(message)"
   ]
  },
  {
   "cell_type": "code",
   "execution_count": 13,
   "id": "47f84389-44d3-4e0f-8f88-1c0f04437a8e",
   "metadata": {
    "jupyter": {
     "source_hidden": true
    },
    "tags": [
     "remove-cell"
    ]
   },
   "outputs": [],
   "source": [
    "def send_message_click(b,text_area=None,config=None):\n",
    "    dict_message = json.loads(text_area.value)\n",
    "    serialized_message = sfig.serialize_message(dict_message)\n",
    "    sfig.post_message(config,serialized_message,log_message=collect_output)"
   ]
  },
  {
   "cell_type": "code",
   "execution_count": 14,
   "id": "67be79ad-1867-4f31-bc9b-750c765be5d2",
   "metadata": {
    "jupyter": {
     "source_hidden": true
    },
    "tags": [
     "remove-cell"
    ]
   },
   "outputs": [],
   "source": [
    "b_send_message.on_click(\n",
    "    functools.partial(\n",
    "        send_message_click,\n",
    "        text_area=ta_message_preview,\n",
    "        config=config\n",
    "    )\n",
    ")"
   ]
  },
  {
   "cell_type": "code",
   "execution_count": 15,
   "id": "9c189c40-8a56-48e8-87b5-5466d7c6c4a2",
   "metadata": {
    "jupyter": {
     "source_hidden": true
    },
    "tags": [
     "remove-cell"
    ]
   },
   "outputs": [],
   "source": [
    "layout = widgets.VBox(\n",
    "    [\n",
    "        b_prep_message,\n",
    "        l_message_preview,\n",
    "        ta_message_preview,\n",
    "        b_send_message,\n",
    "        output_results\n",
    "    ],\n",
    "    layout={\n",
    "        'weight': 'auto',\n",
    "        'height': 'auto'\n",
    "    }\n",
    ")"
   ]
  },
  {
   "cell_type": "code",
   "execution_count": 16,
   "id": "257b1b46-9f36-4b71-b919-78643d9b0e9d",
   "metadata": {
    "jupyter": {
     "source_hidden": true
    },
    "tags": []
   },
   "outputs": [
    {
     "data": {
      "application/vnd.jupyter.widget-view+json": {
       "model_id": "43b09e805cd54e9c886510c15b1b62ce",
       "version_major": 2,
       "version_minor": 0
      },
      "text/plain": [
       "VBox(children=(Button(description='Prepare message', icon='eye', style=ButtonStyle(), tooltip='Create next mes…"
      ]
     },
     "metadata": {},
     "output_type": "display_data"
    }
   ],
   "source": [
    "display(layout)"
   ]
  }
 ],
 "metadata": {
  "kernelspec": {
   "display_name": "Python 3 (ipykernel)",
   "language": "python",
   "name": "python3"
  },
  "language_info": {
   "codemirror_mode": {
    "name": "ipython",
    "version": 3
   },
   "file_extension": ".py",
   "mimetype": "text/x-python",
   "name": "python",
   "nbconvert_exporter": "python",
   "pygments_lexer": "ipython3",
   "version": "3.10.9"
  }
 },
 "nbformat": 4,
 "nbformat_minor": 5
}
